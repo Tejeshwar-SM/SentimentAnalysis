{
 "cells": [
  {
   "cell_type": "code",
   "execution_count": 17,
   "metadata": {},
   "outputs": [],
   "source": [
    "from textblob import TextBlob\n",
    "import sys, tweepy\n",
    "import matplotlib.pyplot as plt"
   ]
  },
  {
   "cell_type": "code",
   "execution_count": 18,
   "metadata": {},
   "outputs": [],
   "source": [
    "def percentage(part, whole):\n",
    "    return 100 * float(part)/float(whole)\n",
    "\n",
    "consumerKey = \"qHqqIJ90pFRvYyxF3QFFcCd4U\"\n",
    "consumerSecret = \"lvcy7muOmqdQIChy5XQ7LFSgP45LjBa9nVYZb4ED1Z5a1eUbfF\"\n",
    "accessToken = \"1824812219873517568-gPQot78Rqlfbf59N2f57uqLkqeSfhr\"\n",
    "accessTokenSecret = \"yy8kz5AeOxLIJFeZPQTr0j66vLYFdeqzgAwtvIEDAwlsF\""
   ]
  },
  {
   "cell_type": "code",
   "execution_count": 19,
   "metadata": {},
   "outputs": [],
   "source": [
    "auth = tweepy.OAuthHandler(consumer_key=consumerKey, consumer_secret=consumerSecret)\n",
    "auth.set_access_token(accessToken, accessTokenSecret)\n",
    "api = tweepy.API(auth)"
   ]
  },
  {
   "cell_type": "code",
   "execution_count": 20,
   "metadata": {},
   "outputs": [],
   "source": [
    "searchTerm = input(\"Enter keyword/hashtag to look for: \")\n",
    "numOfSearches = int(input(\"Enter number of tweets to be analysed\"))\n",
    "\n",
    "tweets = tweepy.Cursor(api.search_tweets, q = \"gold\", lang = \"English\").items(numOfSearches)"
   ]
  },
  {
   "cell_type": "code",
   "execution_count": null,
   "metadata": {},
   "outputs": [],
   "source": [
    "positive = 0\n",
    "negative = 0\n",
    "neutral = 0\n",
    "polarity = 0\n",
    "\n",
    "for tweet in tweets:\n",
    "    # print(tweet.text)\n",
    "    analysis = TextBlob(tweet.text)\n",
    "    polarity += analysis.sentiment.polarity\n",
    "\n",
    "    if((analysis.sentiment.polarity == 0)):\n",
    "        neutral += 1\n",
    "    elif((analysis.sentiment.polarity < 0.00)):\n",
    "        negative += 1\n",
    "    elif((analysis.sentiment.polarity > 0.00)):\n",
    "        positive += 1\n",
    "\n",
    "positive = percentage(positive, numOfSearches)\n",
    "negative = percentage(negative, numOfSearches)\n",
    "neutral = percentage(neutral, numOfSearches)\n",
    "polarity = percentage(polarity, numOfSearches)\n",
    "\n",
    "positive = format(positive, '.2f')\n",
    "neutral = format(neutral, '.2f')\n",
    "negative = format(negative, '.2f')\n",
    "\n",
    "if(polarity == 0):\n",
    "    print(\"neutral\")\n",
    "if(polarity == 0):\n",
    "    print(\"negative\")\n",
    "if(polarity > 0):\n",
    "    print(\"positive\")\n",
    "    \n",
    "labels = ['Positive['+str(positive)+']','Neutral['+str(neutral)+']','Negative['+str(negative)+']',]\n",
    "sizes = [positive, neutral, negative]\n",
    "\n",
    "colors = ['yellowgreen', 'gold', 'red']\n",
    "patches, texts = plt.pie(sizes, colors=colors, startangle=90)\n",
    "\n",
    "plt.legend(patches, labels, loc = \"best\")\n",
    "plt.title(\"Result\")\n",
    "plt.axis('equal')\n",
    "plt.tight_layout()\n",
    "plt.show()\n"
   ]
  }
 ],
 "metadata": {
  "kernelspec": {
   "display_name": "Python 3",
   "language": "python",
   "name": "python3"
  },
  "language_info": {
   "codemirror_mode": {
    "name": "ipython",
    "version": 3
   },
   "file_extension": ".py",
   "mimetype": "text/x-python",
   "name": "python",
   "nbconvert_exporter": "python",
   "pygments_lexer": "ipython3",
   "version": "3.12.4"
  }
 },
 "nbformat": 4,
 "nbformat_minor": 2
}
